{
  "nbformat": 4,
  "nbformat_minor": 0,
  "metadata": {
    "colab": {
      "name": "ineuron_ML_deploy_assignment 1.ipynb",
      "provenance": [],
      "collapsed_sections": [],
      "authorship_tag": "ABX9TyMpkWYIA++pk/rOQPgxC+Jt",
      "include_colab_link": true
    },
    "kernelspec": {
      "name": "python3",
      "display_name": "Python 3"
    }
  },
  "cells": [
    {
      "cell_type": "markdown",
      "metadata": {
        "id": "view-in-github",
        "colab_type": "text"
      },
      "source": [
        "<a href=\"https://colab.research.google.com/github/vishalchugh/python_practice/blob/master/ineuron_ML_deploy_assignment_1.ipynb\" target=\"_parent\"><img src=\"https://colab.research.google.com/assets/colab-badge.svg\" alt=\"Open In Colab\"/></a>"
      ]
    },
    {
      "cell_type": "code",
      "metadata": {
        "id": "aTBjzGgkP8Mc",
        "colab_type": "code",
        "colab": {
          "base_uri": "https://localhost:8080/",
          "height": 34
        },
        "outputId": "b4d17358-0fe2-4259-a9f4-401e7fcbf729"
      },
      "source": [
        "# Task1.1- first program in Jupyter nb\n",
        "\n",
        "print(\"Hi ! Myself Vishal\")"
      ],
      "execution_count": 1,
      "outputs": [
        {
          "output_type": "stream",
          "text": [
            "Hi ! Myself Vishal\n"
          ],
          "name": "stdout"
        }
      ]
    },
    {
      "cell_type": "code",
      "metadata": {
        "id": "JV4j2CeX3vv0",
        "colab_type": "code",
        "outputId": "dca7d445-29b3-4596-e33a-66c0822381c4",
        "colab": {
          "base_uri": "https://localhost:8080/",
          "height": 54
        }
      },
      "source": [
        "# Task1.2-\n",
        "''' \n",
        "    program to print multiples of 7 but not 5 in between 2000 and 3200(incl.) in a single line comma separated.\n",
        "'''\n",
        "\n",
        "# l1=[]\n",
        "\n",
        "\n",
        "for i in range(2000, 3201):\n",
        "  if (i%7==0 and i%5 !=0):\n",
        "    print(i,end=\",\")\n"
      ],
      "execution_count": 9,
      "outputs": [
        {
          "output_type": "stream",
          "text": [
            "2002,2009,2016,2023,2037,2044,2051,2058,2072,2079,2086,2093,2107,2114,2121,2128,2142,2149,2156,2163,2177,2184,2191,2198,2212,2219,2226,2233,2247,2254,2261,2268,2282,2289,2296,2303,2317,2324,2331,2338,2352,2359,2366,2373,2387,2394,2401,2408,2422,2429,2436,2443,2457,2464,2471,2478,2492,2499,2506,2513,2527,2534,2541,2548,2562,2569,2576,2583,2597,2604,2611,2618,2632,2639,2646,2653,2667,2674,2681,2688,2702,2709,2716,2723,2737,2744,2751,2758,2772,2779,2786,2793,2807,2814,2821,2828,2842,2849,2856,2863,2877,2884,2891,2898,2912,2919,2926,2933,2947,2954,2961,2968,2982,2989,2996,3003,3017,3024,3031,3038,3052,3059,3066,3073,3087,3094,3101,3108,3122,3129,3136,3143,3157,3164,3171,3178,3192,3199,"
          ],
          "name": "stdout"
        }
      ]
    },
    {
      "cell_type": "code",
      "metadata": {
        "id": "mhlW4DVj5EJU",
        "colab_type": "code",
        "outputId": "861ec01c-1846-474e-c492-4e7e96e56abe",
        "colab": {
          "base_uri": "https://localhost:8080/",
          "height": 67
        }
      },
      "source": [
        "# Task1.3-  \n",
        "'''accept the user's first and last name and then getting them printed in\n",
        "the the reverse order with a space between first name and last name.'''\n",
        "\n",
        "fst_name = input('Enter ur first name: ')\n",
        "last_name = input('Enter ur last name: ')\n",
        "print(last_name + ' ' + fst_name)"
      ],
      "execution_count": 10,
      "outputs": [
        {
          "output_type": "stream",
          "text": [
            "Enter ur first name: John\n",
            "Enter ur last name: Doe\n",
            "Doe John\n"
          ],
          "name": "stdout"
        }
      ]
    },
    {
      "cell_type": "code",
      "metadata": {
        "id": "T0uk2TZ-5h1_",
        "colab_type": "code",
        "outputId": "9b990925-593b-4529-f16c-230ae65b441c",
        "colab": {
          "base_uri": "https://localhost:8080/",
          "height": 34
        }
      },
      "source": [
        "# Task1.4- \n",
        "''' Write a Python program to find the volume of a sphere with diameter 12 cm.\n",
        "Formula: V=4/3 * π * r3'''\n",
        "\n",
        "dia = 12\n",
        "r = dia/2\n",
        "print(\"The volume of sphere is = %5.2f\"%((4/3)*(22/7)*(r**3)))"
      ],
      "execution_count": 11,
      "outputs": [
        {
          "output_type": "stream",
          "text": [
            "The volume of sphere is = 905.14\n"
          ],
          "name": "stdout"
        }
      ]
    },
    {
      "cell_type": "code",
      "metadata": {
        "id": "VMca9F28R8FD",
        "colab_type": "code",
        "colab": {}
      },
      "source": [
        "# -- TASK 2 __Starts here__"
      ],
      "execution_count": 0,
      "outputs": []
    },
    {
      "cell_type": "code",
      "metadata": {
        "id": "vT2Ooycz63Hp",
        "colab_type": "code",
        "outputId": "7ccc9f9c-77b9-4dd5-9bb0-0cb971c31ae3",
        "colab": {
          "base_uri": "https://localhost:8080/",
          "height": 50
        }
      },
      "source": [
        "# Task2.1- \n",
        "'''program which accepts a sequence of comma-separated numbers from console and\n",
        "generate a list.''' \n",
        "\n",
        "\n",
        "lst_str = input(\"Please enter a comma separated list of no's: \")\n",
        "# lst = [i for i in lst_str if i not in (',')]          # method1 --> using list comprehension\n",
        "# lst\n",
        "\n",
        "#  method2\n",
        "m=[]\n",
        "for i in lst_str.split(','):\n",
        "  m.append(i)\n",
        "\n",
        "m  \n"
      ],
      "execution_count": 14,
      "outputs": [
        {
          "output_type": "stream",
          "text": [
            "Please enter a comma separated list of no's: 1,3,6,9\n"
          ],
          "name": "stdout"
        },
        {
          "output_type": "execute_result",
          "data": {
            "text/plain": [
              "['1', '3', '6', '9']"
            ]
          },
          "metadata": {
            "tags": []
          },
          "execution_count": 14
        }
      ]
    },
    {
      "cell_type": "code",
      "metadata": {
        "id": "nbMa2vC-8ibi",
        "colab_type": "code",
        "outputId": "164d173e-8828-4dc5-9c73-5e7f8e75abf1",
        "colab": {
          "base_uri": "https://localhost:8080/",
          "height": 168
        }
      },
      "source": [
        "# Task2.2-\n",
        "#  pattern using nested for loop  // method1 // But we need nested loops !\n",
        "# link --> https://pynative.com/print-pattern-python-examples/\n",
        "\n",
        "for i in range(5):\n",
        "  print(\"*\"*i)\n",
        "\n",
        "for i in range(4,0,-1):\n",
        "  print(\"*\"*i)\n",
        "\n"
      ],
      "execution_count": 15,
      "outputs": [
        {
          "output_type": "stream",
          "text": [
            "\n",
            "*\n",
            "**\n",
            "***\n",
            "****\n",
            "****\n",
            "***\n",
            "**\n",
            "*\n"
          ],
          "name": "stdout"
        }
      ]
    },
    {
      "cell_type": "code",
      "metadata": {
        "id": "r7Z_LQTl-TlD",
        "colab_type": "code",
        "outputId": "9562b405-5c9e-4e7a-c2e1-11a9b9c98c6c",
        "colab": {
          "base_uri": "https://localhost:8080/",
          "height": 168
        }
      },
      "source": [
        "# Task2.2-\n",
        "#  pattern using nested for loop\n",
        "for i in range(5):\n",
        "  for j in range(0,i+1):\n",
        "    print(\"*\", end=\" \")\n",
        "  print(\"\") \n",
        "\n",
        "for i in range(4,0,-1):\n",
        "  for j in range(0, i):\n",
        "    print(\"*\", end=' ')\n",
        "  print(\"\")"
      ],
      "execution_count": 16,
      "outputs": [
        {
          "output_type": "stream",
          "text": [
            "* \n",
            "* * \n",
            "* * * \n",
            "* * * * \n",
            "* * * * * \n",
            "* * * * \n",
            "* * * \n",
            "* * \n",
            "* \n"
          ],
          "name": "stdout"
        }
      ]
    },
    {
      "cell_type": "code",
      "metadata": {
        "id": "jOVZwxKiAljw",
        "colab_type": "code",
        "outputId": "6e2fffad-aeaa-4999-cb94-a75cafbfedce",
        "colab": {
          "base_uri": "https://localhost:8080/",
          "height": 50
        }
      },
      "source": [
        "# Task2.3-\n",
        "'''program to reverse a word after accepting the input from the user.''' \n",
        "\n",
        "user_ip = input(\"Enter a word to reverse it !\")\n",
        "print(user_ip[::-1])"
      ],
      "execution_count": 17,
      "outputs": [
        {
          "output_type": "stream",
          "text": [
            "Enter a word to reverse it !check_reverse\n",
            "esrever_kcehc\n"
          ],
          "name": "stdout"
        }
      ]
    },
    {
      "cell_type": "code",
      "metadata": {
        "id": "0E4hhceYUSQe",
        "colab_type": "code",
        "colab": {
          "base_uri": "https://localhost:8080/",
          "height": 84
        },
        "outputId": "8d010249-b12d-4048-c0d1-1b1f86f08f13"
      },
      "source": [
        "# Task 2.4-\n",
        "\n",
        "s1= 'WE, THE PEOPLE OF INDIA, having solemnly resolved to constitute India into a SOVEREIGN, SOCIALIST, SECULAR, DEMOCRATIC REPUBLIC and to secure to all its citizens'\n",
        "\n",
        "print('WE, THE PEOPLE OF INDIA,{} having solemnly resolved to constitute India into a SOVEREIGN, {}{} SOCIALIST, SECULAR, DEMOCRATIC REPUBLIC{} and to secure to all its citizens'.format('\\n\\t', '!', '\\n\\t\\t', '\\n\\t\\t '))"
      ],
      "execution_count": 20,
      "outputs": [
        {
          "output_type": "stream",
          "text": [
            "WE, THE PEOPLE OF INDIA,\n",
            "\t having solemnly resolved to constitute India into a SOVEREIGN, !\n",
            "\t\t SOCIALIST, SECULAR, DEMOCRATIC REPUBLIC\n",
            "\t\t  and to secure to all its citizens\n"
          ],
          "name": "stdout"
        }
      ]
    }
  ]
}
